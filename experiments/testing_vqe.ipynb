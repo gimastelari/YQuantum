{
 "cells": [
  {
   "cell_type": "markdown",
   "metadata": {},
   "source": [
    "# Defining Problem Instance"
   ]
  },
  {
   "cell_type": "code",
   "execution_count": 16,
   "metadata": {},
   "outputs": [],
   "source": [
    "from qiskit.circuit.library import TwoLocal\n",
    "from qiskit.result import QuasiDistribution\n",
    "from qiskit_aer.primitives import Sampler\n",
    "from qiskit_finance.data_providers import RandomDataProvider\n",
    "import numpy as np\n",
    "import matplotlib.pyplot as plt\n",
    "import datetime"
   ]
  },
  {
   "cell_type": "code",
   "execution_count": 21,
   "metadata": {},
   "outputs": [
    {
     "name": "stdout",
     "output_type": "stream",
     "text": [
      "[[0.0076482  0.01003397 0.00775742 0.00160638 0.0033029  0.001641\n",
      "  0.00262699 0.00829091 0.00265558 0.00170446]\n",
      " [0.01003397 0.02104572 0.00413457 0.00686577 0.00585865 0.00502727\n",
      "  0.00161272 0.01127256 0.01042832 0.0059838 ]\n",
      " [0.00775742 0.00413457 0.01517809 0.00665451 0.00769874 0.00661551\n",
      "  0.00106618 0.00360668 0.00980132 0.00561482]\n",
      " [0.00160638 0.00686577 0.00665451 0.0120705  0.00415726 0.00367303\n",
      "  0.00345559 0.00438    0.00670194 0.00460177]\n",
      " [0.0033029  0.00585865 0.00769874 0.00415726 0.0043036  0.00258811\n",
      "  0.00145594 0.0022718  0.0029479  0.00488547]\n",
      " [0.001641   0.00502727 0.00661551 0.00367303 0.00258811 0.00430329\n",
      "  0.00159241 0.00505181 0.00205265 0.00489829]\n",
      " [0.00262699 0.00161272 0.00106618 0.00345559 0.00145594 0.00159241\n",
      "  0.00311457 0.00306368 0.00270755 0.00177401]\n",
      " [0.00829091 0.01127256 0.00360668 0.00438    0.0022718  0.00505181\n",
      "  0.00306368 0.01866437 0.00988903 0.01013177]\n",
      " [0.00265558 0.01042832 0.00980132 0.00670194 0.0029479  0.00205265\n",
      "  0.00270755 0.00988903 0.01212454 0.00223937]\n",
      " [0.00170446 0.0059838  0.00561482 0.00460177 0.00488547 0.00489829\n",
      "  0.00177401 0.01013177 0.00223937 0.01459439]]\n"
     ]
    }
   ],
   "source": [
    "# Set random seed for reproducibility\n",
    "np.random.seed(42)\n",
    "\n",
    "# Number of properties\n",
    "n_properties = 10\n",
    "\n",
    "# Generate random expected returns (premiums) for properties\n",
    "mu = np.random.uniform(0.05, 0.15, n_properties)\n",
    "\n",
    "# Generate random correlation matrix and ensure it's symmetric and positive semi-definite\n",
    "random_matrix = np.random.rand(n_properties, n_properties)\n",
    "correlation_matrix = (random_matrix + random_matrix.T) / 2\n",
    "np.fill_diagonal(correlation_matrix, 1)\n",
    "\n",
    "# Generate covariance matrix by scaling the correlation matrix\n",
    "sigma = correlation_matrix * np.outer(mu, mu)\n",
    "\n",
    "# Budget (30% of properties)\n",
    "budget = int(0.3 * n_properties)"
   ]
  },
  {
   "cell_type": "code",
   "execution_count": null,
   "metadata": {},
   "outputs": [],
   "source": [
    "# Defining Parmaters \n",
    "\n",
    "\n",
    "P = np.array([1]*10)\n",
    "p_prime = P/budget\n",
    "u_prime = P@mu\n",
    "sigma_prime = (P@sigma).T@P\n"
   ]
  },
  {
   "cell_type": "code",
   "execution_count": null,
   "metadata": {},
   "outputs": [],
   "source": [
    "# Defining Qubo\n",
    "\n",
    "\n",
    "\n"
   ]
  }
 ],
 "metadata": {
  "kernelspec": {
   "display_name": "venv",
   "language": "python",
   "name": "python3"
  },
  "language_info": {
   "codemirror_mode": {
    "name": "ipython",
    "version": 3
   },
   "file_extension": ".py",
   "mimetype": "text/x-python",
   "name": "python",
   "nbconvert_exporter": "python",
   "pygments_lexer": "ipython3",
   "version": "3.11.8"
  }
 },
 "nbformat": 4,
 "nbformat_minor": 2
}
